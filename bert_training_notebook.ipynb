{
  "cells": [
    {
      "cell_type": "code",
      "execution_count": 1,
      "metadata": {
        "id": "hKPY4yZo9neD"
      },
      "outputs": [
        {
          "name": "stderr",
          "output_type": "stream",
          "text": [
            "/hpc/group/ssri/nce8/miniforge3/envs/torch/lib/python3.13/site-packages/tqdm/auto.py:21: TqdmWarning: IProgress not found. Please update jupyter and ipywidgets. See https://ipywidgets.readthedocs.io/en/stable/user_install.html\n",
            "  from .autonotebook import tqdm as notebook_tqdm\n"
          ]
        }
      ],
      "source": [
        "import datetime\n",
        "import os\n",
        "\n",
        "os.environ[\"PATH\"] = (\n",
        "    \"/opt/apps/rhel9/cuda-12.4/bin:/opt/apps/rhel9/cuda-12.4/\" + os.environ[\"PATH\"]\n",
        ")\n",
        "os.environ[\"LD_LIBRARY_PATH\"] = (\n",
        "    \"/opt/apps/rhel9/cuda-12.4/bin:/opt/apps/rhel9/cuda-12.4\"\n",
        "    + os.environ.get(\"LD_LIBRARY_PATH\", \"\")\n",
        ")\n",
        "\n",
        "from huggingface_hub import HfApi\n",
        "\n",
        "import numpy as np\n",
        "import numpy.random as npr\n",
        "import pandas as pd\n",
        "import torch\n",
        "from sklearn.model_selection import train_test_split\n",
        "from sklearn.preprocessing import LabelEncoder\n",
        "from torch import nn\n",
        "from torch.optim import AdamW\n",
        "from torch.utils.data import DataLoader, Dataset\n",
        "from tqdm import tqdm\n",
        "from transformers import (  # AdamW,\n",
        "    BertForSequenceClassification,\n",
        "    BertModel,\n",
        "    BertTokenizer,\n",
        "    get_linear_schedule_with_warmup,\n",
        ")\n",
        "\n",
        "pd.set_option(\"mode.copy_on_write\", True)\n",
        "repo_id = \"nickeubank/leaa_grant_subjects\"\n",
        "workingdir = \"/hpc/group/ssri/nce8/leaa_subj/\""
      ]
    },
    {
      "cell_type": "code",
      "execution_count": 2,
      "metadata": {},
      "outputs": [],
      "source": [
        "assert torch.cuda.is_available()"
      ]
    },
    {
      "cell_type": "code",
      "execution_count": 3,
      "metadata": {
        "colab": {
          "base_uri": "https://localhost:8080/"
        },
        "id": "oqAoIdGErrRL",
        "outputId": "da24dad9-3707-4a55-b04c-c567447deea1"
      },
      "outputs": [],
      "source": [
        "# dir = \"https://github.com/nickeubank/leaa_subj/raw/refs/heads/main/\"\n",
        "grants = pd.read_parquet(workingdir + \"subj_text_and_labels.parquet\")\n",
        "\n",
        "#########\n",
        "# Split into train test and for predict\n",
        "#########\n",
        "grants = grants.drop_duplicates(\"description\")\n",
        "\n",
        "labeled = grants[grants[\"label_1\"].notnull()]\n",
        "labeled[\"label_1_encoded\"] = labeled[\"label_1\"] - 1"
      ]
    },
    {
      "cell_type": "code",
      "execution_count": 4,
      "metadata": {},
      "outputs": [
        {
          "name": "stdout",
          "output_type": "stream",
          "text": [
            "64148\n",
            "16038\n"
          ]
        }
      ],
      "source": [
        "labeled = labeled.sort_values(\"description\")\n",
        "\n",
        "train_label, test_label, train_text, test_text = train_test_split(\n",
        "    labeled[\"label_1_encoded\"].values,\n",
        "    labeled[\"description\"].values,\n",
        "    test_size=0.2,\n",
        "    random_state=45,\n",
        "    stratify=labeled[\"label_1\"],\n",
        ")\n",
        "print(len(train_label))\n",
        "print(len(test_label))"
      ]
    },
    {
      "cell_type": "code",
      "execution_count": 5,
      "metadata": {
        "id": "Hpg0YddBshl9"
      },
      "outputs": [],
      "source": [
        "########\n",
        "# Preprocess\n",
        "########\n",
        "\n",
        "\n",
        "class ClassificationDataset(Dataset):\n",
        "    def __init__(self, texts, labels, tokenizer, max_len):\n",
        "        self.texts = texts\n",
        "        self.labels = labels\n",
        "        self.tokenizer = tokenizer\n",
        "        self.max_len = max_len\n",
        "\n",
        "    def __len__(self):\n",
        "        return len(self.texts)\n",
        "\n",
        "    def __getitem__(self, idx):\n",
        "        text = self.texts[idx]\n",
        "        label = self.labels[idx]\n",
        "        encoding = self.tokenizer(\n",
        "            text,\n",
        "            add_special_tokens=True,\n",
        "            max_length=self.max_len,\n",
        "            padding=\"max_length\",\n",
        "            truncation=True,\n",
        "            return_tensors=\"pt\",\n",
        "        )\n",
        "        return {\n",
        "            \"input_ids\": encoding[\"input_ids\"].squeeze(0),\n",
        "            \"attention_mask\": encoding[\"attention_mask\"].squeeze(0),\n",
        "            \"label\": torch.tensor(label, dtype=torch.long),\n",
        "        }"
      ]
    },
    {
      "cell_type": "code",
      "execution_count": 6,
      "metadata": {},
      "outputs": [],
      "source": [
        "# Hypertuning Parameters\n",
        "# hypers = {\"lr\": [], \"mlen\": [], \"batch_size\": [], \"accuracy\": []}\n",
        "# hypers = pd.read_parquet(\"hyperparams_1digit_bigbert.parquet\").to_dict()\n",
        "# for k in hypers.keys():\n",
        "#     hypers[k] = list(hypers[k].values())\n",
        "\n",
        "# df = pd.read_parquet(\"hyperparams_1digit_bigbert.parquet\")\n",
        "# df.sort_values(\"accuracy\", ascending=False)\n",
        "\n",
        "# params = [\n",
        "#     {\"mlen\": mlen, \"batch_size\": batch_size, \"lr\": lr}\n",
        "#     for batch_size in [16, 32]\n",
        "#     for mlen in [128, 256, 512]\n",
        "#     for lr in [1e-7, 1e-6, 1e-5, 1e-4]\n",
        "# ]\n",
        "# params"
      ]
    },
    {
      "cell_type": "code",
      "execution_count": 7,
      "metadata": {},
      "outputs": [
        {
          "name": "stderr",
          "output_type": "stream",
          "text": [
            "Some weights of BertForSequenceClassification were not initialized from the model checkpoint at bert-large-uncased and are newly initialized: ['classifier.bias', 'classifier.weight']\n",
            "You should probably TRAIN this model on a down-stream task to be able to use it for predictions and inference.\n",
            "Epoch 0: 100%|██████████| 4010/4010 [26:40<00:00,  2.51it/s, loss=0.951] \n"
          ]
        },
        {
          "name": "stdout",
          "output_type": "stream",
          "text": [
            "Epoch 0 Loss: 0.40974746229001635\n"
          ]
        },
        {
          "name": "stderr",
          "output_type": "stream",
          "text": [
            "Epoch 1: 100%|██████████| 4010/4010 [24:41<00:00,  2.71it/s, loss=0.0107]\n"
          ]
        },
        {
          "name": "stdout",
          "output_type": "stream",
          "text": [
            "Epoch 1 Loss: 0.29572485191654646\n"
          ]
        },
        {
          "name": "stderr",
          "output_type": "stream",
          "text": [
            "Epoch 2: 100%|██████████| 4010/4010 [24:41<00:00,  2.71it/s, loss=0.119]  \n"
          ]
        },
        {
          "name": "stdout",
          "output_type": "stream",
          "text": [
            "Epoch 2 Loss: 0.24037385647756482\n"
          ]
        },
        {
          "name": "stderr",
          "output_type": "stream",
          "text": [
            "model.safetensors: 100%|██████████| 1.34G/1.34G [00:28<00:00, 47.7MB/s]\n",
            "No files have been modified since last commit. Skipping to prevent empty commit.\n",
            "Epoch 3: 100%|██████████| 4010/4010 [25:18<00:00,  2.64it/s, loss=0.252]  \n"
          ]
        },
        {
          "name": "stdout",
          "output_type": "stream",
          "text": [
            "Epoch 3 Loss: 0.17574234464498437\n"
          ]
        },
        {
          "name": "stderr",
          "output_type": "stream",
          "text": [
            "Epoch 4: 100%|██████████| 4010/4010 [24:40<00:00,  2.71it/s, loss=0.387]  \n"
          ]
        },
        {
          "name": "stdout",
          "output_type": "stream",
          "text": [
            "Epoch 4 Loss: 0.1245785100787049\n"
          ]
        },
        {
          "name": "stderr",
          "output_type": "stream",
          "text": [
            "Epoch 5: 100%|██████████| 4010/4010 [24:36<00:00,  2.72it/s, loss=0.00836] \n"
          ]
        },
        {
          "name": "stdout",
          "output_type": "stream",
          "text": [
            "Epoch 5 Loss: 0.08930210874716697\n"
          ]
        },
        {
          "name": "stderr",
          "output_type": "stream",
          "text": [
            "model.safetensors: 100%|██████████| 1.34G/1.34G [00:30<00:00, 44.1MB/s]\n",
            "No files have been modified since last commit. Skipping to prevent empty commit.\n",
            "Epoch 6: 100%|██████████| 4010/4010 [25:13<00:00,  2.65it/s, loss=0.00175] \n"
          ]
        },
        {
          "name": "stdout",
          "output_type": "stream",
          "text": [
            "Epoch 6 Loss: 0.06819923999231596\n"
          ]
        },
        {
          "name": "stderr",
          "output_type": "stream",
          "text": [
            "Epoch 7: 100%|██████████| 4010/4010 [24:39<00:00,  2.71it/s, loss=0.00193] \n"
          ]
        },
        {
          "name": "stdout",
          "output_type": "stream",
          "text": [
            "Epoch 7 Loss: 0.05406233600261383\n"
          ]
        },
        {
          "name": "stderr",
          "output_type": "stream",
          "text": [
            "Epoch 8: 100%|██████████| 4010/4010 [24:40<00:00,  2.71it/s, loss=0.0191]  \n"
          ]
        },
        {
          "name": "stdout",
          "output_type": "stream",
          "text": [
            "Epoch 8 Loss: 0.044383052300148385\n"
          ]
        },
        {
          "name": "stderr",
          "output_type": "stream",
          "text": [
            "model.safetensors: 100%|██████████| 1.34G/1.34G [00:45<00:00, 29.7MB/s]\n",
            "No files have been modified since last commit. Skipping to prevent empty commit.\n",
            "Epoch 9: 100%|██████████| 4010/4010 [25:29<00:00,  2.62it/s, loss=0.00621] \n"
          ]
        },
        {
          "name": "stdout",
          "output_type": "stream",
          "text": [
            "Epoch 9 Loss: 0.0405330149601906\n"
          ]
        },
        {
          "name": "stderr",
          "output_type": "stream",
          "text": [
            "model.safetensors: 100%|██████████| 1.34G/1.34G [00:40<00:00, 32.9MB/s]  \n",
            "No files have been modified since last commit. Skipping to prevent empty commit.\n"
          ]
        },
        {
          "data": {
            "text/plain": [
              "CommitInfo(commit_url='https://huggingface.co/nickeubank/leaa_grant_subjects/commit/c80c14f3f8781cb484dece36cae457f2df921e7e', commit_message='trained_largebert_2025_04_25_22_41_epoch9', commit_description='', oid='c80c14f3f8781cb484dece36cae457f2df921e7e', pr_url=None, repo_url=RepoUrl('https://huggingface.co/nickeubank/leaa_grant_subjects', endpoint='https://huggingface.co', repo_type='model', repo_id='nickeubank/leaa_grant_subjects'), pr_revision=None, pr_num=None)"
            ]
          },
          "execution_count": 7,
          "metadata": {},
          "output_type": "execute_result"
        }
      ],
      "source": [
        "# for p in params[11:]:\n",
        "# MAX_LEN = p[\"mlen\"]\n",
        "# BATCH_SIZE = p[\"batch_size\"]\n",
        "# EPOCHS = 5\n",
        "# LEARNING_RATE = p[\"lr\"]\n",
        "\n",
        "MAX_LEN = 256\n",
        "BATCH_SIZE = 16\n",
        "EPOCHS = 10\n",
        "LEARNING_RATE = 0.000010\n",
        "\n",
        "model = \"bert-large-uncased\"\n",
        "tokenizer = BertTokenizer.from_pretrained(model)\n",
        "train_dataset = ClassificationDataset(train_text, train_label, tokenizer, MAX_LEN)\n",
        "test_dataset = ClassificationDataset(test_text, test_label, tokenizer, MAX_LEN)\n",
        "\n",
        "train_loader = DataLoader(train_dataset, batch_size=BATCH_SIZE, shuffle=True)\n",
        "val_loader = DataLoader(test_dataset, batch_size=BATCH_SIZE, shuffle=False)\n",
        "\n",
        "# Model and Device Setup\n",
        "assert torch.cuda.is_available()\n",
        "device = torch.device(\"cuda\" if torch.cuda.is_available() else \"cpu\")\n",
        "\n",
        "model = BertForSequenceClassification.from_pretrained(\n",
        "    model, num_labels=grants[\"label_1\"].nunique()\n",
        ")\n",
        "model.to(device)\n",
        "\n",
        "# Optimizer\n",
        "optimizer = AdamW(model.parameters(), lr=LEARNING_RATE)\n",
        "\n",
        "for epoch in range(EPOCHS):\n",
        "    model.train()\n",
        "    total_loss = 0\n",
        "    loop = tqdm(train_loader, leave=True)\n",
        "\n",
        "    if (epoch > 0) and (epoch % 3 == 0):\n",
        "\n",
        "        time = datetime.datetime.now().strftime(\"%Y_%m_%d_%H_%M\")\n",
        "\n",
        "        model.push_to_hub(\n",
        "            repo_id, commit_message=f\"checkpoint_large_{time}_epoch{epoch}\"\n",
        "        )\n",
        "\n",
        "    for batch in loop:\n",
        "        optimizer.zero_grad()\n",
        "        input_ids = batch[\"input_ids\"].to(device)\n",
        "        attention_mask = batch[\"attention_mask\"].to(device)\n",
        "        labels = batch[\"label\"].to(device)\n",
        "\n",
        "        outputs = model(\n",
        "            input_ids=input_ids,\n",
        "            attention_mask=attention_mask,\n",
        "            labels=labels,\n",
        "        )\n",
        "        loss = outputs.loss\n",
        "        total_loss += loss.item()\n",
        "\n",
        "        loss.backward()\n",
        "        optimizer.step()\n",
        "\n",
        "        loop.set_description(f\"Epoch {epoch}\")\n",
        "        loop.set_postfix(loss=loss.item())\n",
        "\n",
        "    print(f\"Epoch {epoch} Loss: {total_loss / len(train_loader)}\")\n",
        "\n",
        "time = datetime.datetime.now().strftime(\"%Y_%m_%d_%H_%M\")\n",
        "model.push_to_hub(repo_id, commit_message=f\"trained_largebert_{time}_epoch{epoch}\")\n",
        "tokenizer.push_to_hub(\n",
        "    repo_id,\n",
        "    commit_message=f\"trained_largebert_{time}_epoch{epoch}\",\n",
        ")"
      ]
    },
    {
      "cell_type": "code",
      "execution_count": 8,
      "metadata": {},
      "outputs": [
        {
          "name": "stdout",
          "output_type": "stream",
          "text": [
            "Validation Accuracy: 0.8855\n"
          ]
        }
      ],
      "source": [
        "# Evaluation\n",
        "model.eval()\n",
        "correct = 0\n",
        "total = 0\n",
        "\n",
        "with torch.no_grad():\n",
        "    for batch in val_loader:\n",
        "        input_ids = batch[\"input_ids\"].to(device)\n",
        "        attention_mask = batch[\"attention_mask\"].to(device)\n",
        "        labels = batch[\"label\"].to(device)\n",
        "\n",
        "        outputs = model(input_ids=input_ids, attention_mask=attention_mask)\n",
        "        predictions = torch.argmax(outputs.logits, dim=1)\n",
        "\n",
        "        correct += (predictions == labels).sum().item()\n",
        "        total += labels.size(0)\n",
        "\n",
        "accuracy = correct / total\n",
        "print(f\"Validation Accuracy: {accuracy:.4f}\")\n",
        "\n",
        "# hypers[\"lr\"].append(LEARNING_RATE)\n",
        "# hypers[\"mlen\"].append(MAX_LEN)\n",
        "# hypers[\"batch_size\"].append(BATCH_SIZE)\n",
        "# hypers[\"accuracy\"].append(accuracy)\n",
        "# print(hypers)\n",
        "# pd.DataFrame(hypers).to_parquet(workingdir + \"hyperparams_1digit_bigbert.parquet\")"
      ]
    },
    {
      "cell_type": "code",
      "execution_count": 9,
      "metadata": {},
      "outputs": [],
      "source": [
        "# # Look at fine tuning\n",
        "# df = pd.DataFrame(hypers).sort_values(\"accuracy\", ascending=False)\n",
        "# df.groupby(\"lr\")[\"accuracy\"].mean()"
      ]
    }
  ],
  "metadata": {
    "colab": {
      "authorship_tag": "ABX9TyMaJO1nvot30P1L4VuMbE0H",
      "include_colab_link": true,
      "provenance": []
    },
    "kernelspec": {
      "display_name": "torch",
      "language": "python",
      "name": "python3"
    },
    "language_info": {
      "codemirror_mode": {
        "name": "ipython",
        "version": 3
      },
      "file_extension": ".py",
      "mimetype": "text/x-python",
      "name": "python",
      "nbconvert_exporter": "python",
      "pygments_lexer": "ipython3",
      "version": "3.13.3"
    }
  },
  "nbformat": 4,
  "nbformat_minor": 0
}
